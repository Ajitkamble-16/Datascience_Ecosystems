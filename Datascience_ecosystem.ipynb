{
  "nbformat": 4,
  "nbformat_minor": 0,
  "metadata": {
    "colab": {
      "provenance": []
    },
    "kernelspec": {
      "name": "python3",
      "display_name": "Python 3"
    },
    "language_info": {
      "name": "python"
    }
  },
  "cells": [
    {
      "cell_type": "markdown",
      "source": [
        "#Data Science Tools and Ecosystem\n"
      ],
      "metadata": {
        "id": "1KZtcFTOXE5o"
      }
    },
    {
      "cell_type": "markdown",
      "source": [
        "##In this notebook, Data science tools and Ecosystems are summarized"
      ],
      "metadata": {
        "id": "ETY2twI7Y6eb"
      }
    },
    {
      "cell_type": "markdown",
      "source": [
        "##Some of the popular languages used by Data Scientist are:\n",
        "1. Python\n",
        "2. R Program\n",
        "3. Java"
      ],
      "metadata": {
        "id": "8PjuPQu2ZYdu"
      }
    },
    {
      "cell_type": "markdown",
      "source": [
        "##Some of the commonly used libraires by the Data Scientist are:\n",
        "1. Pandas\n",
        "2. Matplotlib\n",
        "3. Sk-learn"
      ],
      "metadata": {
        "id": "8X68mBqHaJCi"
      }
    },
    {
      "cell_type": "markdown",
      "source": [
        "|Data Science tools|\n",
        "|-------|\n",
        "|Pandas|\n",
        "|Scrapy|\n",
        "|Tensorflow.js|\n"
      ],
      "metadata": {
        "id": "tcWZilHMcdmQ"
      }
    },
    {
      "cell_type": "markdown",
      "source": [
        "###Below are few examples of arithmatic expression in Python:\n"
      ],
      "metadata": {
        "id": "Dpl9xMnOdLDQ"
      }
    },
    {
      "cell_type": "code",
      "execution_count": 1,
      "metadata": {
        "colab": {
          "base_uri": "https://localhost:8080/"
        },
        "id": "SfHxGG9mWXiL",
        "outputId": "927c8414-3259-4991-cefe-f25f974cddd6"
      },
      "outputs": [
        {
          "output_type": "execute_result",
          "data": {
            "text/plain": [
              "17"
            ]
          },
          "metadata": {},
          "execution_count": 1
        }
      ],
      "source": [
        "#this is simple arithmatic expression to multiple and then add numbers:\n",
        "(3*4)+5"
      ]
    },
    {
      "cell_type": "code",
      "source": [
        "#this will convert 200 minutes to hours by dividing by 60:\n",
        "200/60\n"
      ],
      "metadata": {
        "colab": {
          "base_uri": "https://localhost:8080/"
        },
        "id": "xOM_6bL2egJo",
        "outputId": "a630ab5f-04d8-46ec-f401-e2bd3da3edfc"
      },
      "execution_count": 2,
      "outputs": [
        {
          "output_type": "execute_result",
          "data": {
            "text/plain": [
              "3.3333333333333335"
            ]
          },
          "metadata": {},
          "execution_count": 2
        }
      ]
    },
    {
      "cell_type": "markdown",
      "source": [
        "#**Objectives:**\n",
        "* List popular languages used by Data Scientist\n",
        "* List commonly used libraries by Data Scientist\n",
        "* List open source tools used by Data Scientist"
      ],
      "metadata": {
        "id": "mMaT5O_3flnT"
      }
    },
    {
      "cell_type": "markdown",
      "source": [
        "##Author\n",
        "Ajit Kamble\n"
      ],
      "metadata": {
        "id": "M8FKr7wggf2p"
      }
    },
    {
      "cell_type": "code",
      "source": [],
      "metadata": {
        "id": "_XRGeDtrfFpR"
      },
      "execution_count": null,
      "outputs": []
    }
  ]
}